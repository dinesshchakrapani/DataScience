{
 "cells": [
  {
   "cell_type": "markdown",
   "id": "16b27ea6",
   "metadata": {},
   "source": [
    "<h1><center>10th Feb Python Assignment</center></h1>"
   ]
  },
  {
   "cell_type": "code",
   "execution_count": null,
   "id": "68ae338f",
   "metadata": {},
   "outputs": [],
   "source": [
    "'''\n",
    "Q1. Which function is used to open a file? What are the different modes of opening a file? Explain each mode\n",
    "of file opening.\n",
    "\n",
    "Ans: The open() function is used to open a file. The open() function takes two arguments: the first argument is the name of \n",
    "the file that you want to open, and the second argument is the mode in which you want to open the file.\n",
    "\n",
    "There are different modes for opening a file, which are explained below:\n",
    "\n",
    "'r' (Read mode): This is the default mode for opening a file. It allows you to read the contents of a file but not modify it. \n",
    "                 If the file does not exist, an error is raised.\n",
    "\n",
    "'w' (Write mode): This mode allows you to write data to a file. If the file already exists, it will be truncated to zero length.\n",
    "                  If the file does not exist, a new file will be created.\n",
    "\n",
    "'a' (Append mode): This mode allows you to add data to the end of a file. If the file does not exist, a new file will be created.\n",
    "\n",
    "'x' (Exclusive creation mode): This mode creates a new file and allows you to write data to it, but it raises an error if the \n",
    "                               file already exists.\n",
    "\n",
    "'b' (Binary mode): This mode is used to open a file in binary mode. In this mode, data is read and written in binary format.\n",
    "\n",
    "'t' (Text mode): This mode is used to open a file in text mode. In this mode, data is read and written in text format.\n",
    "\n",
    "'+' (Read and write mode): This mode allows you to read and write to a file at the same time.'''"
   ]
  },
  {
   "cell_type": "code",
   "execution_count": null,
   "id": "969c356a",
   "metadata": {},
   "outputs": [],
   "source": [
    "'''\n",
    "Q2. Why close() function is used? Why is it important to close a file?\n",
    "\n",
    "Ans: The close() function is used to close an open file.It is important to close a file for release of resources, saving data, \n",
    "prevent data corruption. If we don't close the file it won't be written in file and it will be stored in buffer memory only.'''"
   ]
  },
  {
   "cell_type": "code",
   "execution_count": 4,
   "id": "f746d8d0",
   "metadata": {},
   "outputs": [
    {
     "name": "stdout",
     "output_type": "stream",
     "text": [
      "I want to become a Data Scientist\n"
     ]
    }
   ],
   "source": [
    "'''\n",
    "Q3. Write a python program to create a text file. Write ‘I want to become a Data Scientist’ in that file. Then\n",
    "close the file. Open this file and read the content of the file.\n",
    "\n",
    "Code: \n",
    "'''\n",
    "f=open(\"file1.txt\",'w')\n",
    "f.write(\"I want to become a Data Scientist\")\n",
    "f.close()\n",
    "f=open(\"file1.txt\",'r')\n",
    "out=f.read()\n",
    "f.close\n",
    "print(out)"
   ]
  },
  {
   "cell_type": "code",
   "execution_count": 10,
   "id": "f6816c1c",
   "metadata": {},
   "outputs": [
    {
     "name": "stdout",
     "output_type": "stream",
     "text": [
      "Hi this is dinessh\n",
      "If any help needed call me\n"
     ]
    }
   ],
   "source": [
    "'''\n",
    "Q4. Explain the following with python code: read(), readline() and readlines().\n",
    "\n",
    "Ans: \n",
    "read()- This method reads the entire contents of a file and returns them as a single string.\n",
    "\n",
    "Code:\n",
    "'''\n",
    "file = open(\"example.txt\", \"w\")\n",
    "file.write(\"Hi this is dinessh\\nIf any help needed call me\")\n",
    "file.close()\n",
    "file = open(\"example.txt\", \"r\")\n",
    "print(file.read())\n",
    "file.seek(0)\n",
    "file.close()\n"
   ]
  },
  {
   "cell_type": "code",
   "execution_count": 11,
   "id": "76bda9c3",
   "metadata": {},
   "outputs": [
    {
     "name": "stdout",
     "output_type": "stream",
     "text": [
      "Hi this is dinessh\n",
      "\n"
     ]
    }
   ],
   "source": [
    "'''\n",
    "readline()- This method will read and return the first line in the text file.\n",
    "\n",
    "Code:\n",
    "'''\n",
    "file = open(\"example.txt\", \"r\")\n",
    "print(file.readline())\n",
    "file.seek(0)\n",
    "file.close()"
   ]
  },
  {
   "cell_type": "code",
   "execution_count": 13,
   "id": "453c39bd",
   "metadata": {},
   "outputs": [
    {
     "name": "stdout",
     "output_type": "stream",
     "text": [
      "['Hi this is dinessh\\n', 'If any help needed call me']\n"
     ]
    }
   ],
   "source": [
    "'''\n",
    "readlines()- This method will read and return every new lines in the form of list from the text file.\n",
    "\n",
    "Code:\n",
    "'''\n",
    "file = open(\"example.txt\", \"r\")\n",
    "print(file.readlines())\n",
    "file.seek(0)\n",
    "file.close()"
   ]
  },
  {
   "cell_type": "code",
   "execution_count": null,
   "id": "bab05421",
   "metadata": {},
   "outputs": [],
   "source": [
    "'''\n",
    "Q5. Explain why with statement is used with open(). What is the advantage of using with statement and open() together?\n",
    "\n",
    "Ans: The with statement is used to ensure that a block of code is executed properly, whether or not an exception is thrown. \n",
    "When used with the open() function, it automatically closes the file when the block of code is exited, whether normally or \n",
    "by an exception.\n",
    "The advantage of using the with statement with open() is that it automatically closes the file at the end of the block, \n",
    "which helps to prevent resource leaks and ensures that the file is properly saved. This means that you don't have to \n",
    "explicitly call the close() method on the file object, which can be easily overlooked, especially if your code raises an \n",
    "exception or has multiple exit points.\n",
    "'''"
   ]
  },
  {
   "cell_type": "code",
   "execution_count": 17,
   "id": "c6765a36",
   "metadata": {},
   "outputs": [
    {
     "name": "stdout",
     "output_type": "stream",
     "text": [
      "Hi this is dinessh\n",
      "If any help needed call me\n"
     ]
    }
   ],
   "source": [
    "'''\n",
    "Q6. Explain the write() and writelines() functions. Give a suitable example.\n",
    "\n",
    "Ans: write(): The write() method is used to write a string to a file.\n",
    "\n",
    "Code:\n",
    "'''\n",
    "file = open(\"example.txt\", \"w\")\n",
    "file.write(\"Hi this is dinessh\\nIf any help needed call me\")\n",
    "file.close()\n",
    "file = open(\"example.txt\", \"r\")\n",
    "print(file.read())\n",
    "file.seek(0)\n",
    "file.close()"
   ]
  },
  {
   "cell_type": "code",
   "execution_count": 22,
   "id": "014487a1",
   "metadata": {},
   "outputs": [
    {
     "name": "stdout",
     "output_type": "stream",
     "text": [
      "Hi this is dinessh. If any help needed call me\n"
     ]
    }
   ],
   "source": [
    "'''\n",
    "writelines(): The writelines() method is used to write a list of strings to a file. Each string in the list represents a \n",
    "line in the file.\n",
    "\n",
    "Code:\n",
    "'''\n",
    "file = open(\"example.txt\", \"w\")\n",
    "file.writelines([\"Hi this is dinessh. \",\"If any help needed call me\"])\n",
    "file.close()\n",
    "file = open(\"example.txt\", \"r\")\n",
    "print(file.read())\n",
    "file.seek(0)\n",
    "file.close()"
   ]
  }
 ],
 "metadata": {
  "kernelspec": {
   "display_name": "Python 3 (ipykernel)",
   "language": "python",
   "name": "python3"
  },
  "language_info": {
   "codemirror_mode": {
    "name": "ipython",
    "version": 3
   },
   "file_extension": ".py",
   "mimetype": "text/x-python",
   "name": "python",
   "nbconvert_exporter": "python",
   "pygments_lexer": "ipython3",
   "version": "3.9.13"
  }
 },
 "nbformat": 4,
 "nbformat_minor": 5
}

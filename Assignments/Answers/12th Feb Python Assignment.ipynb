{
 "cells": [
  {
   "cell_type": "markdown",
   "id": "2bde103b",
   "metadata": {},
   "source": [
    "<h1><center>12th Feb Python Assignment</center></h1>"
   ]
  },
  {
   "cell_type": "markdown",
   "id": "992ee1af",
   "metadata": {},
   "source": [
    "<p><b>1.</b> What is exception in python? Write the difference between Exceptions and Syntax errors.<br>\n",
    "\n",
    "<b>Ans:</b> An exception is a Python object represents an error. When a exection when if anythinf disrupts the normal flow it raises the exeption.<br>When the proper syntax of the language is not followed then a <b>Syntax Error</b> is thrown.<br>When in the runtime an error that occurs after passing the syntax test is called <b>Exception</b>.<p>"
   ]
  },
  {
   "cell_type": "markdown",
   "id": "0c210d9d",
   "metadata": {},
   "source": [
    "<p><b>2.</b> What happens when the exception is not handled? Explain with an example.<br>\n",
    "\n",
    "<b>Ans:</b> If the exception is not handled in the program at runtime it will kill the program and an exception meaage will be displyed in the screen<br>\n",
    "\n",
    "<b>Code:</b><p>"
   ]
  },
  {
   "cell_type": "code",
   "execution_count": 1,
   "id": "2a6cb787",
   "metadata": {},
   "outputs": [
    {
     "ename": "ZeroDivisionError",
     "evalue": "division by zero",
     "output_type": "error",
     "traceback": [
      "\u001b[1;31m---------------------------------------------------------------------------\u001b[0m",
      "\u001b[1;31mZeroDivisionError\u001b[0m                         Traceback (most recent call last)",
      "\u001b[1;32m~\\AppData\\Local\\Temp\\ipykernel_13720\\1926354841.py\u001b[0m in \u001b[0;36m<module>\u001b[1;34m\u001b[0m\n\u001b[0;32m      1\u001b[0m \u001b[0ma\u001b[0m\u001b[1;33m=\u001b[0m\u001b[1;36m10\u001b[0m\u001b[1;33m\u001b[0m\u001b[1;33m\u001b[0m\u001b[0m\n\u001b[0;32m      2\u001b[0m \u001b[0mb\u001b[0m\u001b[1;33m=\u001b[0m\u001b[1;36m0\u001b[0m\u001b[1;33m\u001b[0m\u001b[1;33m\u001b[0m\u001b[0m\n\u001b[1;32m----> 3\u001b[1;33m \u001b[0mprint\u001b[0m\u001b[1;33m(\u001b[0m\u001b[0ma\u001b[0m\u001b[1;33m/\u001b[0m\u001b[0mb\u001b[0m\u001b[1;33m)\u001b[0m\u001b[1;33m\u001b[0m\u001b[1;33m\u001b[0m\u001b[0m\n\u001b[0m",
      "\u001b[1;31mZeroDivisionError\u001b[0m: division by zero"
     ]
    }
   ],
   "source": [
    "a=10\n",
    "b=0\n",
    "print(a/b)"
   ]
  },
  {
   "cell_type": "markdown",
   "id": "a9528f34",
   "metadata": {},
   "source": [
    "<p>Any thing divided by zero is not defined, so we can see here that 10/0 thrown a execption of ZeroDivisionError.<p>"
   ]
  },
  {
   "cell_type": "markdown",
   "id": "f28a3c76",
   "metadata": {},
   "source": [
    "<p><b>3.</b> Which python statments are used to catch and handle exception? Explain with an example.<br>\n",
    "\n",
    "<b>Ans:</b> Except block is used to catch and handle exceptions which occurs in try block<br>\n",
    "\n",
    "<b>Code:</b>  <p>"
   ]
  },
  {
   "cell_type": "code",
   "execution_count": 7,
   "id": "273ca520",
   "metadata": {},
   "outputs": [
    {
     "name": "stdout",
     "output_type": "stream",
     "text": [
      "division by zero\n"
     ]
    }
   ],
   "source": [
    "try:\n",
    "    a=10\n",
    "    b=0\n",
    "    print(a/b)\n",
    "except Exception as e:\n",
    "    print(e)"
   ]
  },
  {
   "cell_type": "markdown",
   "id": "e5ee1ec1",
   "metadata": {},
   "source": [
    "<p><b>4.</b> Explain with and Example<br>\n",
    "    a. Try and else<br>\n",
    "    b.Finally<br>\n",
    "    c.Raise<br>\n",
    "    \n",
    "<b>Ans:</b><br>\n",
    "<b>a) Try and else:</b> If you think a code can fail keep it in try block and once try gets executed successfully the else block will start executing if there is failure occured in try block then except block will execute and else block wont execute. \n",
    "\n",
    "<b>Code:</b><p>"
   ]
  },
  {
   "cell_type": "code",
   "execution_count": 12,
   "id": "27263884",
   "metadata": {},
   "outputs": [
    {
     "name": "stdout",
     "output_type": "stream",
     "text": [
      "5.0\n"
     ]
    }
   ],
   "source": [
    "try:\n",
    "    a=10\n",
    "    b=2\n",
    "    c=a/b\n",
    "except Exception as e:\n",
    "    print(e)\n",
    "else:\n",
    "    print(c)"
   ]
  },
  {
   "cell_type": "markdown",
   "id": "6402fd92",
   "metadata": {},
   "source": [
    "<p><b>b) Finally:</b> This block of code will execute if the exection occurs in try block or not.\n",
    "\n",
    "<b>Code:</b><p>"
   ]
  },
  {
   "cell_type": "code",
   "execution_count": 14,
   "id": "9af49d35",
   "metadata": {},
   "outputs": [
    {
     "name": "stdout",
     "output_type": "stream",
     "text": [
      "division by zero\n",
      "Always it gets printed\n"
     ]
    }
   ],
   "source": [
    "try:\n",
    "    a=10\n",
    "    b=0\n",
    "    c=a/b\n",
    "except Exception as e:\n",
    "    print(e)\n",
    "else:\n",
    "    print(c)\n",
    "finally:\n",
    "    print(\"Always it gets printed\")"
   ]
  },
  {
   "cell_type": "markdown",
   "id": "133114f6",
   "metadata": {},
   "source": [
    "<p><b>c) Raise:</b> This keyword is used to call the custom Exception which is created by inheriting the exception class.\n",
    "\n",
    "<b>Code:</b><p>"
   ]
  },
  {
   "cell_type": "code",
   "execution_count": 22,
   "id": "60efefab",
   "metadata": {},
   "outputs": [
    {
     "name": "stdout",
     "output_type": "stream",
     "text": [
      "Enter the age: 180\n",
      "The age is too high\n"
     ]
    }
   ],
   "source": [
    "class ages(Exception):\n",
    "    def __init__(self,msg):\n",
    "        self.msg=msg\n",
    "def check_age(age):\n",
    "    if age<0:\n",
    "        raise ages(\"The age shouldn't be negative\")\n",
    "    elif age>150:\n",
    "        raise ages(\"The age is too high\")\n",
    "    else:\n",
    "        print(\"Valid age\")\n",
    "try:\n",
    "    age=int(input(\"Enter the age: \"))\n",
    "    check_age(age)\n",
    "except ages as e:\n",
    "    print(e)"
   ]
  },
  {
   "cell_type": "markdown",
   "id": "4b01c61a",
   "metadata": {},
   "source": [
    "<p><b>5.</b> What are Custom Exceptions in python? Why do we need custom exceptions in python? Explain with an example.<br>\n",
    "\n",
    "<b>Ans: </b>Custom Exceptions are the classes which are created by inheriting the Exeption parent class. We need these type of exection to customize as per the requirment and it can be reusable at many places once its created. For eg: If we need to check the age of a person given is valid and it has to be used at many places of the code, so to do the repetation of the same process we create a custom exception and use it in multiple places.\n",
    "\n",
    "<b> Code:</b>\n",
    "<p>"
   ]
  },
  {
   "cell_type": "code",
   "execution_count": 24,
   "id": "f7986116",
   "metadata": {},
   "outputs": [
    {
     "name": "stdout",
     "output_type": "stream",
     "text": [
      "Enter the age: -10\n",
      "The age shouldn't be negative\n"
     ]
    }
   ],
   "source": [
    "class ages(Exception):\n",
    "    def __init__(self,msg):\n",
    "        self.msg=msg\n",
    "def check_age(age):\n",
    "    if age<0:\n",
    "        raise ages(\"The age shouldn't be negative\")\n",
    "    elif age>150:\n",
    "        raise ages(\"The age is too high\")\n",
    "    else:\n",
    "        print(\"Valid age\")\n",
    "try:\n",
    "    age=int(input(\"Enter the age: \"))\n",
    "    check_age(age)\n",
    "except ages as e:\n",
    "    print(e)"
   ]
  },
  {
   "cell_type": "markdown",
   "id": "16adb7ea",
   "metadata": {},
   "source": [
    "<p><b>6.</b> Create a custom exception class. Use this class to handle the an exception.<br>\n",
    "\n",
    "<b>Code: </b>"
   ]
  },
  {
   "cell_type": "code",
   "execution_count": 25,
   "id": "036cafe9",
   "metadata": {},
   "outputs": [
    {
     "name": "stdout",
     "output_type": "stream",
     "text": [
      "Enter the age: 10\n",
      "Valid age\n"
     ]
    }
   ],
   "source": [
    "class ages(Exception):\n",
    "    def __init__(self,msg):\n",
    "        self.msg=msg\n",
    "def check_age(age):\n",
    "    if age<0:\n",
    "        raise ages(\"The age shouldn't be negative\")\n",
    "    elif age>150:\n",
    "        raise ages(\"The age is too high\")\n",
    "    else:\n",
    "        print(\"Valid age\")\n",
    "try:\n",
    "    age=int(input(\"Enter the age: \"))\n",
    "    check_age(age)\n",
    "except ages as e:\n",
    "    print(e)"
   ]
  }
 ],
 "metadata": {
  "kernelspec": {
   "display_name": "Python 3 (ipykernel)",
   "language": "python",
   "name": "python3"
  },
  "language_info": {
   "codemirror_mode": {
    "name": "ipython",
    "version": 3
   },
   "file_extension": ".py",
   "mimetype": "text/x-python",
   "name": "python",
   "nbconvert_exporter": "python",
   "pygments_lexer": "ipython3",
   "version": "3.9.13"
  }
 },
 "nbformat": 4,
 "nbformat_minor": 5
}

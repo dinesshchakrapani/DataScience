{
 "cells": [
  {
   "cell_type": "markdown",
   "id": "94e6c4fa",
   "metadata": {},
   "source": [
    "<h1><center>14th Feb Python Assignment</center></h1>"
   ]
  },
  {
   "cell_type": "code",
   "execution_count": null,
   "id": "5fe19fc2",
   "metadata": {},
   "outputs": [],
   "source": [
    "'''\n",
    "Q1. What is multithreading in python? Why is it used? Name the module used to handle threads in python.\n",
    "\n",
    "Ans: Multithreading is a technique that allows the execution of multiple threads within a single process. \n",
    "A thread is a separate flow of execution within a process, and multithreading allows for concurrent execution of multiple \n",
    "threads, each performing a specific task.\n",
    "\n",
    "Multithreading is used when you want to perform multiple tasks simultaneously, such as running multiple I/O-bound operations \n",
    "or performing calculations on different sets of data. It can improve the performance of your program by allowing you to take \n",
    "advantage of multiple CPU cores and reducing the amount of time that your program spends waiting for I/O operations to complete.\n",
    "\n",
    "The threading module is used to handle threads. This module provides a simple way to create and manage threads in a \n",
    "Python program.\n",
    "'''"
   ]
  },
  {
   "cell_type": "code",
   "execution_count": 18,
   "id": "49c570c2",
   "metadata": {},
   "outputs": [
    {
     "name": "stdout",
     "output_type": "stream",
     "text": [
      "Thread Worker-0 started\n",
      "Active threads: 7\n",
      "Current thread: Worker-0\n",
      "Thread Worker-1 started\n",
      "Active threads: 8\n",
      "Current thread: Worker-1\n",
      "Thread Worker-2 started\n",
      "Active threads: 9\n",
      "Current thread: Worker-2\n",
      "Thread Worker-1 finished\n",
      "Thread Worker-0 finished\n",
      "Thread Worker-2 finished\n",
      "Active threads: 6\n",
      "Current thread: MainThread\n",
      "All threads:\n",
      "  MainThread\n",
      "  IOPub\n",
      "  Heartbeat\n",
      "  Control\n",
      "  IPythonHistorySavingThread\n",
      "  Thread-4\n"
     ]
    }
   ],
   "source": [
    "'''\n",
    "Q2. Why threading module used? Write the use of the following functions\n",
    "1.activeCount()\n",
    "2.currentThread()\n",
    "3.enumerate()\n",
    "\n",
    "Ans: The threading module is used for creating and managing threads in a program. It provides a simple and \n",
    "efficient way to execute multiple tasks concurrently, making it useful for applications that require multitasking, \n",
    "parallel processing.\n",
    "\n",
    "activeCount()-This function returns the number of currently active threads in the current thread object. It is useful \n",
    "              for monitoring the number of threads that are currently running in the program.\n",
    "currentThread()-This function returns a reference to the current thread object. It is useful for getting information about \n",
    "                the current thread, such as its name, ID, and other attributes.\n",
    "enumerate()-This function returns a list of all currently active thread objects in the program. It is useful for getting \n",
    "information about all the threads that are currently running, such as their names, IDs, and other attributes.\n",
    "\n",
    "Code:\n",
    "'''\n",
    "\n",
    "import threading\n",
    "import time\n",
    "\n",
    "def worker():\n",
    "    print(f\"Thread {threading.current_thread().name} started\")\n",
    "    print(f\"Active threads: {threading.active_count()}\")\n",
    "    print(f\"Current thread: {threading.current_thread().name}\")\n",
    "    time.sleep(2)\n",
    "    print(f\"Thread {threading.current_thread().name} finished\")\n",
    "threads = []\n",
    "for i in range(3):\n",
    "    t = threading.Thread(target=worker, name=f\"Worker-{i}\")\n",
    "    threads.append(t)\n",
    "    t.start()\n",
    "for t in threads:\n",
    "    t.join()\n",
    "print(f\"Active threads: {threading.active_count()}\")\n",
    "print(f\"Current thread: {threading.current_thread().name}\")\n",
    "print(\"All threads:\")\n",
    "for t in threading.enumerate():\n",
    "    print(f\"  {t.name}\")"
   ]
  },
  {
   "cell_type": "code",
   "execution_count": 43,
   "id": "ee7758a5",
   "metadata": {},
   "outputs": [
    {
     "name": "stdout",
     "output_type": "stream",
     "text": [
      "Thread started\n",
      "Thread is alive inside fuction: True\n",
      "Is Thread alive before join: True\n",
      "Thread finished\n",
      "Is Thread alive after join: False\n"
     ]
    }
   ],
   "source": [
    "'''\n",
    "Q3. Explain the following functions\n",
    "1.run()\n",
    "2.start()\n",
    "3.join()\n",
    "4.isAlive()\n",
    "\n",
    "Ans:\n",
    "run() - This method is the entry point for the thread's activity. It should be overridden by a subclass to define the specific \n",
    "action that the thread should perform. When the start() method is called, it calls the run() method to start the thread's \n",
    "activity.\n",
    "\n",
    "start() - This method starts the thread's activity. It creates a new thread of control and starts executing the run() method \n",
    "of the thread. The start() method can only be called once for each thread object.\n",
    "\n",
    "join() - This method blocks the calling thread until the thread whose join() method is called is terminated. It can be used \n",
    "to wait for a thread to finish its execution before continuing with the rest of the program.\n",
    "\n",
    "isAlive() - This method returns a boolean value indicating whether the thread is currently running or not. If the thread is \n",
    "running, it returns True, otherwise it returns False.\n",
    "\n",
    "Code:\n",
    "'''\n",
    "import threading\n",
    "import time\n",
    "def worker():\n",
    "    print(\"Thread started\")\n",
    "    print(\"Thread is alive inside fuction:\", thread.is_alive())\n",
    "    time.sleep(2)\n",
    "    print(\"Thread finished\")\n",
    "thread = threading.Thread(target=worker)\n",
    "thread.start()\n",
    "print(\"Is Thread alive before join:\", thread.is_alive())\n",
    "thread.join()\n",
    "print(\"Is Thread alive after join:\", thread.is_alive())"
   ]
  },
  {
   "cell_type": "code",
   "execution_count": 57,
   "id": "017b1541",
   "metadata": {},
   "outputs": [
    {
     "name": "stdout",
     "output_type": "stream",
     "text": [
      "Print list of square\n",
      "[1, 4, 9]\n",
      "Print list of cube\n",
      "[1, 8, 27]\n"
     ]
    }
   ],
   "source": [
    "'''\n",
    "Q4. Write a python program to create two threads. Thread one must print the list of squares and thread\n",
    "two must print the list of cubes.\n",
    "\n",
    "Code:\n",
    "'''\n",
    "import threading\n",
    "\n",
    "def sq(a):\n",
    "    print(\"Print list of square\")\n",
    "    print(list(map(lambda x:x*x,a)))\n",
    "def cube(a):\n",
    "    print(\"Print list of cube\")\n",
    "    print(list(map(lambda x:x**3,a)))\n",
    "thread1=threading.Thread(target=sq,args=([1,2,3],))\n",
    "thread2=threading.Thread(target=cube,args=([1,2,3],))\n",
    "thread1.start()\n",
    "thread2.start()\n",
    "thread1.join()\n",
    "thread2.join()"
   ]
  },
  {
   "cell_type": "code",
   "execution_count": null,
   "id": "301dd7e6",
   "metadata": {},
   "outputs": [],
   "source": [
    "'''\n",
    "Q5.State advantages and disadvantages of multithreading\n",
    "\n",
    "Ans:\n",
    "Advantages:\n",
    "1.Thread is light weight, taking lesser resources.\n",
    "2.While one thread is blocked and waiting, a second thread in the same task can run.\n",
    "3.One thread can read, write or change another thread's data.\n",
    "Disadvantage:\n",
    "1.Multithreaded application cannot take advantage of multiprocessing.\n",
    "2.In a typical operating system, most system calls are blocking.\n",
    "3.Multithreaded programs can be more difficult to debug than single-threaded programs.\n",
    "'''"
   ]
  },
  {
   "cell_type": "code",
   "execution_count": null,
   "id": "ddaad361",
   "metadata": {},
   "outputs": [],
   "source": [
    "'''\n",
    "Q6.Explain deadlocks and race conditions.\n",
    "\n",
    "Ans:\n",
    "Deadlock: A deadlock occurs when two or more threads are blocked, waiting for each other to release resources they need to \n",
    "continue executing. This can occur when one thread holds a resource that another thread needs, and vice versa. If the threads \n",
    "are unable to resolve the conflict and release the resources, the program can become stuck in a deadlock\n",
    "\n",
    "Race condition: A race condition occurs when two or more threads access a shared resource concurrently, and the order in which \n",
    "they access the resource affects the outcome of the program. This can result in unexpected behavior or data corruption.\n",
    "'''"
   ]
  }
 ],
 "metadata": {
  "kernelspec": {
   "display_name": "Python 3 (ipykernel)",
   "language": "python",
   "name": "python3"
  },
  "language_info": {
   "codemirror_mode": {
    "name": "ipython",
    "version": 3
   },
   "file_extension": ".py",
   "mimetype": "text/x-python",
   "name": "python",
   "nbconvert_exporter": "python",
   "pygments_lexer": "ipython3",
   "version": "3.9.13"
  }
 },
 "nbformat": 4,
 "nbformat_minor": 5
}

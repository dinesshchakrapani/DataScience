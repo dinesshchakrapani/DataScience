{
 "cells": [
  {
   "cell_type": "markdown",
   "id": "1fcf69ab",
   "metadata": {},
   "source": [
    "<h1><center>15th Feb Python Assignment</center></h1>"
   ]
  },
  {
   "cell_type": "code",
   "execution_count": null,
   "id": "07a6b8f0",
   "metadata": {},
   "outputs": [],
   "source": [
    "'''\n",
    "Q1. What is multiprocessing in python? Why is it useful?\n",
    "\n",
    "Ans:Multiprocessing in Python is a module that allows for the execution of multiple processes concurrently on a single or \n",
    "multiple processors. It provides a way to take advantage of multiple cores or CPUs in a system to speed up the execution of \n",
    "computationally-intensive tasks.\n",
    "\n",
    "Multiprocessing can be useful in a variety of scenarios, such as:\n",
    "\n",
    "Parallel processing of computationally-intensive tasks: Multiprocessing can speed up the execution of tasks that can be broken \n",
    "down into smaller, independent subtasks that can be executed in parallel.\n",
    "\n",
    "Concurrent processing of I/O-bound tasks: Multiprocessing can also be used to speed up I/O-bound tasks, such as reading and \n",
    "writing files or network operations, by allowing multiple tasks to be executed simultaneously.\n",
    "\n",
    "Improving performance on multicore processors: Multiprocessing can take advantage of multiple cores in a processor to improve \n",
    "performance, especially in systems that have more than one processor or core.\n",
    "'''"
   ]
  },
  {
   "cell_type": "code",
   "execution_count": null,
   "id": "3c727c95",
   "metadata": {},
   "outputs": [],
   "source": [
    "'''\n",
    "Q2. What are the differences between multiprocessing and multithreading?\n",
    "\n",
    "Ans:Multiprocessing and multithreading are two different ways of achieving concurrency in software programs. While they both \n",
    "allow multiple tasks to be executed concurrently, they differ in their approach to dividing and executing tasks.\n",
    "\n",
    "Some of the key differences between multiprocessing and multithreading:\n",
    "\n",
    "Process vs Thread: The fundamental unit of execution in multiprocessing is a process, while in multithreading it is a thread. A \n",
    "process is a separate instance of a program that has its own memory space and system resources, while a thread is a sequence of \n",
    "instructions that can be executed by a single CPU core within a process.\n",
    "\n",
    "Memory: Since each process has its own memory space, multiprocessing allows for true parallelism and avoids any potential \n",
    "memory conflicts or race conditions. In multithreading, all threads share the same memory space within a process, which can \n",
    "lead to potential conflicts and race conditions.\n",
    "\n",
    "Overhead: Since each process in multiprocessing has its own memory space, there is more overhead involved in creating and \n",
    "managing multiple processes. In multithreading, since all threads share the same memory space, there is less overhead involved \n",
    "in creating and managing threads.\n",
    "\n",
    "CPU usage: Multiprocessing can take advantage of multiple cores in a processor to execute processes in parallel, making more \n",
    "efficient use of CPU resources. In multithreading, all threads share the same CPU core within a process, which can limit the \n",
    "amount of parallelism that can be achieved.\n",
    "\n",
    "Error handling: Since each process in multiprocessing is separate from the others, any errors that occur in one process do not \n",
    "affect the others. In multithreading, if an error occurs in one thread, it can potentially affect other threads within the same \n",
    "process.\n",
    "'''"
   ]
  },
  {
   "cell_type": "code",
   "execution_count": 8,
   "id": "6c8ac157",
   "metadata": {},
   "outputs": [
    {
     "name": "stdout",
     "output_type": "stream",
     "text": [
      "Before process starts\n",
      "Inside the process\n",
      "After proccess ends\n"
     ]
    }
   ],
   "source": [
    "'''\n",
    "Q3. Write a python code to create a process using the multiprocessing module.\n",
    "\n",
    "Code:\n",
    "'''\n",
    "import multiprocessing\n",
    "\n",
    "def a():\n",
    "    print(\"Inside the process\")\n",
    "pro=multiprocessing.Process(target=a)\n",
    "print(\"Before process starts\")\n",
    "pro.start()\n",
    "pro.join()\n",
    "print(\"After proccess ends\")"
   ]
  },
  {
   "cell_type": "code",
   "execution_count": 2,
   "id": "ddd219f2",
   "metadata": {},
   "outputs": [
    {
     "name": "stdout",
     "output_type": "stream",
     "text": [
      "[1, 4, 9, 16, 25]\n"
     ]
    }
   ],
   "source": [
    "'''\n",
    "Q4. What is a multiprocessing pool in python? Why is it used?\n",
    "\n",
    "Ans:A multiprocessing pool in Python is a collection of worker processes that can be used to execute a function in parallel on \n",
    "a large set of input data. It is provided by the multiprocessing module in Python and is used to distribute the workload among \n",
    "multiple CPU cores or processors, allowing for faster execution of the code.\n",
    "In a multiprocessing pool, the input data is divided into smaller chunks, and each chunk is assigned to a worker process to be \n",
    "processed independently. Once all the worker processes have finished executing their tasks, the results are collected and \n",
    "returned to the main process.\n",
    "The main advantage of using a multiprocessing pool is that it can significantly reduce the time required to process a large \n",
    "dataset, as the workload is divided among multiple processes that can run in parallel. This can be particularly useful for \n",
    "CPU-intensive tasks such as data processing, machine learning, and scientific computing.\n",
    "\n",
    "Code:\n",
    "'''\n",
    "import multiprocessing\n",
    "\n",
    "def square(x):\n",
    "    return x * x\n",
    "\n",
    "if __name__ == '__main__':\n",
    "    with multiprocessing.Pool(processes=4) as pool:\n",
    "        data = [1, 2, 3, 4, 5]\n",
    "        results = pool.map(square, data)\n",
    "        print(results)"
   ]
  },
  {
   "cell_type": "code",
   "execution_count": 1,
   "id": "cd67b547",
   "metadata": {},
   "outputs": [
    {
     "name": "stdout",
     "output_type": "stream",
     "text": [
      "[1, 4, 9, 16, 25]\n"
     ]
    }
   ],
   "source": [
    "'''\n",
    "Q5. How can we create a pool of worker processes in python using the multiprocessing module?\n",
    "\n",
    "Code:\n",
    "'''\n",
    "import multiprocessing\n",
    "\n",
    "def square(x):\n",
    "    return x * x\n",
    "\n",
    "if __name__ == '__main__':\n",
    "    with multiprocessing.Pool(processes=4) as pool:\n",
    "        data = [1, 2, 3, 4, 5]\n",
    "        results = pool.map(square, data)\n",
    "        print(results)    "
   ]
  },
  {
   "cell_type": "code",
   "execution_count": 7,
   "id": "a63db63c",
   "metadata": {},
   "outputs": [
    {
     "name": "stdout",
     "output_type": "stream",
     "text": [
      "Process 1: 1\n",
      "Process 2: 2\n",
      "Process 3: 3\n",
      "Process 4: 4\n"
     ]
    }
   ],
   "source": [
    "'''\n",
    "Q6. Write a python program to create 4 processes, each process should print a different number using the\n",
    "multiprocessing module in python.\n",
    "\n",
    "Code:\n",
    "'''\n",
    "import multiprocessing\n",
    "\n",
    "def print_number(number):\n",
    "    print(f\"Process {number}: {number}\")\n",
    "\n",
    "if __name__ == '__main__':\n",
    "    processes = []\n",
    "    for i in range(4):\n",
    "        process = multiprocessing.Process(target=print_number, args=(i,))\n",
    "        processes.append(process)\n",
    "    for process in processes:\n",
    "        process.start()\n",
    "    for process in processes:\n",
    "        process.join()"
   ]
  }
 ],
 "metadata": {
  "kernelspec": {
   "display_name": "Python 3 (ipykernel)",
   "language": "python",
   "name": "python3"
  },
  "language_info": {
   "codemirror_mode": {
    "name": "ipython",
    "version": 3
   },
   "file_extension": ".py",
   "mimetype": "text/x-python",
   "name": "python",
   "nbconvert_exporter": "python",
   "pygments_lexer": "ipython3",
   "version": "3.9.13"
  }
 },
 "nbformat": 4,
 "nbformat_minor": 5
}

{
 "cells": [
  {
   "cell_type": "markdown",
   "id": "1fcf69ab",
   "metadata": {},
   "source": [
    "<h1><center>16th Feb Python Assignment</center></h1>"
   ]
  },
  {
   "cell_type": "code",
   "execution_count": null,
   "id": "f528bb80",
   "metadata": {},
   "outputs": [],
   "source": [
    "'''\n",
    "Q1. What is a database? Differentiate between SQL and NoSQL databases.\n",
    "\n",
    "Ans: Databases are used to store and manage large amounts of information in a secure, organized, and efficient way.\n",
    "SQL stands for Structured Query Language, and it is a language used to manage data in a relational database. A relational \n",
    "database is a database that is organized based on the relationships between tables.SQL databases use a schema to define the \n",
    "structure of the data, and SQL is used to query and manipulate the data.\n",
    "NoSQL databases are non-relational databases that store data in a non-tabular form. NoSQL databases use various data models, \n",
    "such as key-value, document-oriented, column-oriented, and graph databases, to store and manage data.NoSQL databases are \n",
    "designed to be highly scalable and flexible, and they can handle large volumes of unstructured and semi-structured data. \n",
    "Unlike SQL databases, NoSQL databases don't use a schema to define the structure of the data, and they don't use SQL to query \n",
    "and manipulate the data.\n",
    "'''"
   ]
  },
  {
   "cell_type": "code",
   "execution_count": null,
   "id": "03cd5323",
   "metadata": {},
   "outputs": [],
   "source": [
    "'''\n",
    "Q2. What is DDL? Explain why CREATE, DROP, ALTER, and TRUNCATE are used with an example.\n",
    "\n",
    "Ans: DDL stands for Data Definition Language. It is a set of SQL commands used to create, modify, and delete database objects \n",
    "such as tables, indexes, views, and stored procedures.\n",
    "\n",
    "Create: The CREATE command is used to create new database objects.\n",
    "Eg: CREATE Table TEST(id int,name varchar(20));\n",
    "\n",
    "DROP: The DROP command is used to delete existing database objects.\n",
    "Eg: Drop table TEST;\n",
    "\n",
    "ALTER: The ALTER command is used to modify the structure of existing database objects. \n",
    "Eg: ALTER TABLE TEST ADD COLUMN address VARCHAR(100);\n",
    "\n",
    "TRUNCATE: The TRUNCATE command is used to delete all data from a table, but it does not delete the table itself.\n",
    "Eg: TRUNCATE TABLE TEST;\n",
    "'''"
   ]
  },
  {
   "cell_type": "code",
   "execution_count": null,
   "id": "76e9b6d2",
   "metadata": {},
   "outputs": [],
   "source": [
    "'''\n",
    "Q3. What is DML? Explain INSERT, UPDATE, and DELETE with an example.\n",
    "\n",
    "Ans: DML stands for Data Manipulation Language. It is a set of SQL commands used to manipulate data stored in a database. \n",
    "DML commands include INSERT, UPDATE and DELETE.\n",
    "\n",
    "INSERT: The INSERT command is used to insert new data into a table.\n",
    "Eg: Insert table TEST values(1,\"din\");\n",
    "\n",
    "UPDATE: The UPDATE command is used to modify existing data in a table.\n",
    "Eg: Update Test SET name=\"lin\" where id=1;\n",
    "\n",
    "DELETE: The DELETE command is used to delete data from a table.\n",
    "Eg: Delete from Test where id=1;\n",
    "'''"
   ]
  },
  {
   "cell_type": "code",
   "execution_count": null,
   "id": "cc59467c",
   "metadata": {},
   "outputs": [],
   "source": [
    "'''\n",
    "Q4. What is DQL? Explain SELECT with an example.\n",
    "\n",
    "Ans: DQL stands for Data Query Language. It is a subset of SQL used to retrieve data from a database. DQL commands include \n",
    "SELECT, WHERE, GROUP BY, HAVING, and ORDER BY.\n",
    "\n",
    "SELECT: SELECT statement used to retrieve data from this table.\n",
    "Eg: Select * from TEST;\n",
    "'''"
   ]
  },
  {
   "cell_type": "code",
   "execution_count": null,
   "id": "bab42fe6",
   "metadata": {},
   "outputs": [],
   "source": [
    "'''\n",
    "Q5. Explain Primary Key and Foreign Key.\n",
    "\n",
    "Ans: \n",
    "Primary Key: A primary key is a column or a set of columns in a table that uniquely identifies each row in the table.\n",
    "Eg: CREATE Table TEST(id int PRIMARY KEY,name varchar(20));\n",
    "\n",
    "Foregin Key: A foreign key is a column or a set of columns in one table that refers to the primary key of another table.\n",
    "Eg: CREATE Table SUBJECT(subject_id int PRIMARY KEY,subject_name varchar(20), student_id, \n",
    "FOREGIN KEY(student_id) REFERENCES TEST(id));\n",
    "'''"
   ]
  },
  {
   "cell_type": "code",
   "execution_count": null,
   "id": "b5faf28a",
   "metadata": {},
   "outputs": [],
   "source": [
    "'''\n",
    "Q6. Write a python code to connect MySQL to python. Explain the cursor() and execute() method.\n",
    "\n",
    "CODE:\n",
    "'''\n",
    "import mysql.connector\n",
    "my=mysql.connector.connect(host='localhost',user='abc',password='password')\n",
    "mycursor=my.cursor()\n",
    "mycursor.execute(\"Select * from TEST\")\n",
    "for i in mycursor:\n",
    "    print(i)\n",
    "my.close()\n",
    "'''\n",
    "cursor(): This method creates a cursor object that can be used to execute SQL statements and to fetch the results of the \n",
    "executed statements.\n",
    "\n",
    "execute(): This method of the cursor object is used to execute an SQL statement. It takes the SQL statement as a parameter.\n",
    "'''"
   ]
  },
  {
   "cell_type": "code",
   "execution_count": null,
   "id": "634ff560",
   "metadata": {},
   "outputs": [],
   "source": [
    "'''\n",
    "Q7. Give the order of execution of SQL clauses in an SQL query.\n",
    "\n",
    "Ans: \n",
    "1. FROM/JOIN: The FROM and/or JOIN clauses are executed first to determine the data of interest.\n",
    "\n",
    "2. WHERE: The WHERE clause is executed to filter out records that do not meet the constraints.\n",
    "\n",
    "3. GROUP BY: The GROUP BY clause is executed to group the data based on the values in one or more columns.\n",
    "\n",
    "4. HAVING: The HAVING clause is executed to remove the created grouped records that don’t meet the constraints.\n",
    "\n",
    "5. SELECT: The SELECT clause is executed to derive all desired columns and expressions.\n",
    "\n",
    "6. ORDER BY: The ORDER BY clause is executed to sort the derived values in ascending or descending order.\n",
    "\n",
    "7. LIMIT/OFFSET: Finally, the LIMIT and/or OFFSET clauses are executed to keep or skip a specified number of rows.\n",
    "'''"
   ]
  }
 ],
 "metadata": {
  "kernelspec": {
   "display_name": "Python 3 (ipykernel)",
   "language": "python",
   "name": "python3"
  },
  "language_info": {
   "codemirror_mode": {
    "name": "ipython",
    "version": 3
   },
   "file_extension": ".py",
   "mimetype": "text/x-python",
   "name": "python",
   "nbconvert_exporter": "python",
   "pygments_lexer": "ipython3",
   "version": "3.9.13"
  }
 },
 "nbformat": 4,
 "nbformat_minor": 5
}

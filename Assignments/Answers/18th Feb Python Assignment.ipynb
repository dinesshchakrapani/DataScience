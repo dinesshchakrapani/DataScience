{
 "cells": [
  {
   "cell_type": "markdown",
   "id": "040bae9b",
   "metadata": {},
   "source": [
    "<h1><center>18th Feb Python Assignment</center></h1>"
   ]
  },
  {
   "cell_type": "code",
   "execution_count": null,
   "id": "e7b32a0b",
   "metadata": {},
   "outputs": [],
   "source": [
    "'''\n",
    "Q1. What is an API? Give an example, where an API is used in real life.\n",
    "\n",
    "Ans: API is Application Programming interface. This is used to communicate between 2 diffrent applications. Eg. Used in real \n",
    "life is the Google Maps API, which allows developers to integrate Google Maps into their own websites or applications.\n",
    "'''"
   ]
  },
  {
   "cell_type": "code",
   "execution_count": null,
   "id": "4ee980a6",
   "metadata": {},
   "outputs": [],
   "source": [
    "'''\n",
    "Q2. Give advantages and disadvantages of using API.\n",
    "\n",
    "Ans:\n",
    "Advantages of using API:\n",
    "\n",
    "Efficient development: This provide pre-built functionality and data that can be integrated quickly and easily into a website \n",
    "or application. This can reduce development time and costs.\n",
    "\n",
    "Interoperability: This allow different systems and applications to communicate with each other. This means that developers can \n",
    "integrate different technologies and services to create more complex and powerful applications.\n",
    "\n",
    "Customization: This allow developers to customize and personalize their applications using data and functionality from other \n",
    "sources. This can create unique and tailored experiences for users.\n",
    "\n",
    "Scalability: This are designed to handle large volumes of requests and data, which makes them highly scalable. This means that \n",
    "applications that use APIs can handle a large number of users and data.\n",
    "\n",
    "Access to data: This allow developers to access data from various sources such as social media, weather services, or financial \n",
    "data. This data can be used to create new products or services, or to enhance existing ones.\n",
    "\n",
    "Disadvantages of using API:\n",
    "\n",
    "Security risks: APIs can expose sensitive data or functionality to unauthorized users if not properly secured. This can lead to \n",
    "data breaches, hacks, and other security risks.\n",
    "\n",
    "Technical challenges: Integrating different APIs can be complex and require a certain level of technical expertise. This can \n",
    "lead to challenges for developers who are not familiar with the specific API or technology.\n",
    "\n",
    "Dependence on external services: Applications that use APIs are often dependent on external services. If the API provider \n",
    "experiences downtime or other issues, the application may be affected.\n",
    "\n",
    "Changes to the API: API providers may change their APIs or deprecate certain functionality without warning. This can lead to \n",
    "compatibility issues and break applications that rely on the specific API.\n",
    "\n",
    "Cost: Some APIs may require payment for usage, which can be costly for developers and businesses. This can add to the overall \n",
    "cost of developing and maintaining an application.\n",
    "'''"
   ]
  },
  {
   "cell_type": "code",
   "execution_count": null,
   "id": "c2f46907",
   "metadata": {},
   "outputs": [],
   "source": [
    "'''\n",
    "Q3. What is a Web API? Differentiate between API and Web API.\n",
    "\n",
    "Ans:A Web API, also known as a web service or web application programming interface, is an API that is accessed over the \n",
    "internet using HTTP protocols. It allows two different software systems to communicate with each other, using a web-based \n",
    "interface. Web APIs typically use REST (Representational State Transfer) architecture, which is a popular and widely-used \n",
    "design pattern for web-based APIs.\n",
    "The main difference between an API and a Web API is that an API can be accessed from any programming language, platform, or \n",
    "device, while a Web API is specifically designed to be accessed over the internet using HTTP protocols. APIs can be accessed \n",
    "through various channels such as libraries, frameworks, or SDKs, whereas Web APIs are accessed using URLs and HTTP requests.\n",
    "'''"
   ]
  },
  {
   "cell_type": "code",
   "execution_count": null,
   "id": "e00a9878",
   "metadata": {},
   "outputs": [],
   "source": [
    "'''\n",
    "Q4. Explain REST and SOAP Architecture. Mention shortcomings of SOAP.\n",
    "\n",
    "Ans:REST (Representational State Transfer) and SOAP (Simple Object Access Protocol) are two popular web service architectures \n",
    "used to exchange data between different software systems.\n",
    "REST architecture is a web-based architectural style that uses HTTP requests to perform operations on resources. It operates \n",
    "on resources using standard HTTP methods such as GET, POST, PUT, and DELETE, which can be mapped to create, read, update, and \n",
    "delete (CRUD) operations on data. REST-based systems typically return data in various formats, such as JSON or XML.\n",
    "SOAP architecture, on the other hand, is a messaging protocol that uses XML to transfer data between different systems. It is \n",
    "designed to be a more complex and formal protocol that can be used in more complex and critical systems. SOAP uses a set of \n",
    "standardized rules and protocols to define the format of messages, message headers, and message payloads.\n",
    "\n",
    "Disadvantages of SOAP include:\n",
    "\n",
    "Complexity: SOAP is a more complex protocol that requires more effort to set up and maintain. It requires a lot of overhead and \n",
    "messaging to handle errors, security, and routing.\n",
    "\n",
    "Performance: SOAP typically has a higher performance overhead than REST, due to the additional processing required to \n",
    "handle SOAP messages and their formatting.\n",
    "\n",
    "Support: SOAP is not as widely supported as REST, particularly in modern web and mobile application development. REST has \n",
    "become the more popular approach for building web services and APIs.\n",
    "\n",
    "Scalability: SOAP can be more challenging to scale than REST due to its higher overhead and complexity, which can make it more \n",
    "challenging to handle large numbers of requests.\n",
    "'''"
   ]
  },
  {
   "cell_type": "code",
   "execution_count": null,
   "id": "4deb5f28",
   "metadata": {},
   "outputs": [],
   "source": [
    "'''\n",
    "Q5. Differentiate between REST and SOAP.\n",
    "\n",
    "Ans:\n",
    "\n",
    "The main differences between REST and SOAP:\n",
    "\n",
    "Protocol: REST is an architectural style that uses HTTP protocols to exchange data between systems. SOAP, on the other hand, \n",
    "is a messaging protocol that uses XML to exchange data.\n",
    "\n",
    "Data format: REST uses a variety of data formats, including JSON and XML, while SOAP uses only XML for data exchange.\n",
    "\n",
    "Message structure: REST messages have a simple structure, with headers and message bodies, while SOAP messages have a more \n",
    "complex structure with headers, message bodies, and envelopes.\n",
    "\n",
    "Security: REST uses SSL/TLS for security, while SOAP has its own security protocol called WS-Security, which is a more complex \n",
    "and formal approach to security.\n",
    "\n",
    "Performance: REST is typically faster and more lightweight than SOAP due to its simple message structure and use of common HTTP \n",
    "methods like GET, POST, PUT, and DELETE. SOAP messages are more complex and can be slower to process.\n",
    "\n",
    "Scalability: REST is typically more scalable than SOAP due to its simple structure and use of caching, while SOAP is more \n",
    "resource-intensive and may be more challenging to scale in large systems.\n",
    "'''"
   ]
  }
 ],
 "metadata": {
  "kernelspec": {
   "display_name": "Python 3 (ipykernel)",
   "language": "python",
   "name": "python3"
  },
  "language_info": {
   "codemirror_mode": {
    "name": "ipython",
    "version": 3
   },
   "file_extension": ".py",
   "mimetype": "text/x-python",
   "name": "python",
   "nbconvert_exporter": "python",
   "pygments_lexer": "ipython3",
   "version": "3.9.13"
  }
 },
 "nbformat": 4,
 "nbformat_minor": 5
}

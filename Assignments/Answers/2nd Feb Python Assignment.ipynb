{
 "cells": [
  {
   "cell_type": "markdown",
   "id": "6008c640",
   "metadata": {},
   "source": [
    "<h1><center>2nd Feb Python Assignment</center></h1>"
   ]
  },
  {
   "cell_type": "raw",
   "id": "f83f416c",
   "metadata": {},
   "source": [
    "1. Tuple is a data strucutre in python which is initalised using () once the tuple is created data cannot be added or deleted, the tuple is used to store secure info like passwords. The Tuples is immutable once the data entered into the tuple cannot be changed."
   ]
  },
  {
   "cell_type": "code",
   "execution_count": 2,
   "id": "1654071a",
   "metadata": {},
   "outputs": [
    {
     "name": "stdout",
     "output_type": "stream",
     "text": [
      "2\n",
      "0\n"
     ]
    }
   ],
   "source": [
    "'''\n",
    "2. Tuple has 2 methods namely count() and index()\n",
    "count()-->Returns number of occurances of a particular value in the tuple\n",
    "index()-->Returns the first index of the particular value encountered in the tuple\n",
    "Eg:'''\n",
    "a=(1,4,2,1,3,0)\n",
    "print(a.count(1))\n",
    "print(a.index(1))"
   ]
  },
  {
   "cell_type": "code",
   "execution_count": 3,
   "id": "b3cf2fed",
   "metadata": {},
   "outputs": [
    {
     "data": {
      "text/plain": [
       "{1, 2, 3, 4}"
      ]
     },
     "execution_count": 3,
     "metadata": {},
     "output_type": "execute_result"
    }
   ],
   "source": [
    "'''\n",
    "3.Set collection data type does not allow duplicates in it.'''\n",
    "a=[1,1,1,2,1,3,1,4,2,1,2,2,2,3,2,4,3,1,3,2,3,3,3,4,4,1,4,2,4,3,4,4]\n",
    "set(a)"
   ]
  },
  {
   "cell_type": "code",
   "execution_count": 7,
   "id": "dec6b00a",
   "metadata": {},
   "outputs": [
    {
     "name": "stdout",
     "output_type": "stream",
     "text": [
      "{1, 2, 3}\n",
      "{1, 2, 3, 4, 5}\n",
      "{1, 2, 3, 4, 5}\n",
      "{1, 2, 4, 5}\n"
     ]
    }
   ],
   "source": [
    "'''\n",
    "4.\n",
    "union():This will provide all elements present in both the set with out duplicates\n",
    "update():This same as union but first set will be updated with the union result'''\n",
    "a1={1,2,3}\n",
    "a2={1,2,4,5}\n",
    "a1.union(a2)\n",
    "print(a1)\n",
    "print(a1.union(a2))\n",
    "a1.update(a2)\n",
    "print(a1)\n",
    "print(a2)"
   ]
  },
  {
   "cell_type": "code",
   "execution_count": 10,
   "id": "770c9301",
   "metadata": {},
   "outputs": [
    {
     "name": "stdout",
     "output_type": "stream",
     "text": [
      "{'a': 'apple', 'b': 'ball', 'c': 'cat'}\n"
     ]
    }
   ],
   "source": [
    "'''\n",
    "5. Dictionary is a collection of key value pairs, the key can have tuple and value can have tuple, set, list and dictionary also.\n",
    "Dictionary is unordered'''\n",
    "a={\"a\":\"apple\",\"b\":\"ball\",\"c\":\"cat\"}\n",
    "print(a)"
   ]
  },
  {
   "cell_type": "code",
   "execution_count": 11,
   "id": "950f8097",
   "metadata": {},
   "outputs": [
    {
     "name": "stdout",
     "output_type": "stream",
     "text": [
      "{'a-z': {'a': 'apple', 'b': 'ball', 'c': 'cat'}, '1-9': {1: 'one', 2: 'two', 3: 'three'}}\n"
     ]
    }
   ],
   "source": [
    "'''\n",
    "6.Yes nested loop is possible to be created\n",
    "Eg:'''\n",
    "a={\"a-z\":{\"a\":\"apple\",\"b\":\"ball\",\"c\":\"cat\"},\"1-9\":{1:\"one\",2:\"two\",3:\"three\"}}\n",
    "print(a)"
   ]
  },
  {
   "cell_type": "code",
   "execution_count": 21,
   "id": "ccff7c6d",
   "metadata": {},
   "outputs": [
    {
     "name": "stdout",
     "output_type": "stream",
     "text": [
      "{'Language': 'python', 'course': 'Data Science Masters', 'topics': ['Python', 'Machine Learning', 'Deep Learning']}\n"
     ]
    }
   ],
   "source": [
    "'''\n",
    "7.'''\n",
    "dict1={\"Language\":\"python\",\"course\":\"Data Science Masters\"}\n",
    "dict1.setdefault(\"topics\",[\"Python\",\"Machine Learning\",\"Deep Learning\"])\n",
    "print(dict1)"
   ]
  },
  {
   "cell_type": "code",
   "execution_count": 22,
   "id": "07ac04bb",
   "metadata": {},
   "outputs": [
    {
     "name": "stdout",
     "output_type": "stream",
     "text": [
      "dict_keys(['Sport', 'Teams'])\n",
      "dict_values(['Cricket', ['India', 'Australia', 'England', 'South Africa', 'Sri Lanka', 'New Zealand']])\n",
      "dict_items([('Sport', 'Cricket'), ('Teams', ['India', 'Australia', 'England', 'South Africa', 'Sri Lanka', 'New Zealand'])])\n"
     ]
    }
   ],
   "source": [
    "'''\n",
    "8. 3 View objects in dictionary are keys, values, items\n",
    "Eg:'''\n",
    "dict1 = {'Sport': 'Cricket' , 'Teams': ['India', 'Australia', 'England', 'South Africa', 'Sri Lanka', 'New Zealand']}\n",
    "print(dict1.keys())\n",
    "print(dict1.values())\n",
    "print(dict1.items())"
   ]
  }
 ],
 "metadata": {
  "kernelspec": {
   "display_name": "Python 3 (ipykernel)",
   "language": "python",
   "name": "python3"
  },
  "language_info": {
   "codemirror_mode": {
    "name": "ipython",
    "version": 3
   },
   "file_extension": ".py",
   "mimetype": "text/x-python",
   "name": "python",
   "nbconvert_exporter": "python",
   "pygments_lexer": "ipython3",
   "version": "3.9.13"
  }
 },
 "nbformat": 4,
 "nbformat_minor": 5
}

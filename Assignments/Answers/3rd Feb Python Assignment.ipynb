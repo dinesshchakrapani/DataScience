{
 "cells": [
  {
   "cell_type": "code",
   "execution_count": 1,
   "id": "b9879053",
   "metadata": {},
   "outputs": [
    {
     "data": {
      "text/plain": [
       "[1, 3, 5, 7, 9, 11, 13, 15, 17, 19, 21, 23, 25]"
      ]
     },
     "execution_count": 1,
     "metadata": {},
     "output_type": "execute_result"
    }
   ],
   "source": [
    "'''\n",
    "1. def keyword is used to create a function'''\n",
    "def odd_numbers():\n",
    "    a=[]\n",
    "    for i in range(1,26,2):\n",
    "        a.append(i)\n",
    "    return a\n",
    "odd_numbers()"
   ]
  },
  {
   "cell_type": "code",
   "execution_count": 16,
   "id": "71b3ec7b",
   "metadata": {},
   "outputs": [
    {
     "name": "stdout",
     "output_type": "stream",
     "text": [
      "For *args\n",
      "1 2 (3, 4, 5, 6, 7, 8) 9\n",
      "For *kwargs\n",
      "{'a': 1, 'b': 2, 'c': 3}\n"
     ]
    }
   ],
   "source": [
    "'''\n",
    "2. *args is used to take manage the multiple arguments if we dont know the number of arguments passed are if it way more \n",
    "attributes to be given in the function, This args is used inside the function as tuple to get the data of the arguments.\n",
    "**kwargs is used to take the arguments in key value pair which is used inside the function and it is stored as dictionary in \n",
    "kwargs variable.\n",
    "Eg:\n",
    "For *args'''\n",
    "def test(a,b,*args,c):\n",
    "    print(a,b,args,c)\n",
    "print(\"For *args\")\n",
    "test(1,2,3,4,5,6,7,8,c=9)\n",
    "'''For **kwargs'''\n",
    "def test(**kwargs):\n",
    "    print(kwargs)\n",
    "print(\"For *kwargs\")\n",
    "test(a=1,b=2,c=3)\n"
   ]
  },
  {
   "cell_type": "code",
   "execution_count": 21,
   "id": "ee526fa5",
   "metadata": {},
   "outputs": [
    {
     "name": "stdout",
     "output_type": "stream",
     "text": [
      "2\n",
      "4\n",
      "6\n",
      "8\n",
      "10\n"
     ]
    }
   ],
   "source": [
    "'''\n",
    "3. Iterator is traversing through the collection of objects like list, set, tuple, range. In Python, an iterator is an object \n",
    "which implements the iterator protocol, which consist of the methods __iter__() and __next__().\n",
    "The iter() is used to initiate iterator object and next() is used to traverse through the collection of objects or\n",
    "iteration'''\n",
    "a=[2, 4, 6, 8, 10, 12, 14, 16,18, 20]\n",
    "b=iter(a)\n",
    "i=0\n",
    "while (i<5):\n",
    "    print(next(b))\n",
    "    i+=1"
   ]
  },
  {
   "cell_type": "code",
   "execution_count": 22,
   "id": "f18bae6c",
   "metadata": {},
   "outputs": [
    {
     "name": "stdout",
     "output_type": "stream",
     "text": [
      "0\n",
      "1\n",
      "1\n",
      "2\n",
      "3\n"
     ]
    }
   ],
   "source": [
    "'''\n",
    "4. Generator function is same as normal function it is also created using def keyword but instead of return keyword we use \n",
    "yield keyword for generator function to return and its is returned as generator object. In this if one value is computed \n",
    "it is retured to the generator call function so this doesn't require to store the old values and wait for future values to \n",
    "go forward.\n",
    "Eg:Fibonacci Series'''\n",
    "\n",
    "def fib(n):\n",
    "    a,b=0,1\n",
    "    for i in range(n):\n",
    "        yield a\n",
    "        a,b=b,a+b\n",
    "for i in fib(5):\n",
    "    print(i)"
   ]
  },
  {
   "cell_type": "code",
   "execution_count": 42,
   "id": "03832e69",
   "metadata": {},
   "outputs": [
    {
     "name": "stdout",
     "output_type": "stream",
     "text": [
      "1\n",
      "2\n",
      "3\n",
      "5\n",
      "7\n",
      "11\n",
      "13\n",
      "17\n",
      "19\n",
      "23\n",
      "29\n",
      "31\n",
      "37\n",
      "41\n",
      "43\n",
      "47\n",
      "53\n",
      "59\n",
      "61\n",
      "67\n"
     ]
    }
   ],
   "source": [
    "'''\n",
    "5.Create a generator function for prime numbers less than 1000. Use the next() method to print the first 20 prime numbers.'''\n",
    "\n",
    "def prime(n):\n",
    "    c=0\n",
    "    for i in range(1,n):\n",
    "        for j in range(2,(i//2)+1):\n",
    "            if(i%j==0):\n",
    "                c=1\n",
    "                break\n",
    "        if c==0:\n",
    "            yield i\n",
    "        c=0\n",
    "'''a=prime(1000)\n",
    "c=0\n",
    "while(c<20):\n",
    "    print(a.__next__())\n",
    "    c+=1\n",
    "'''\n",
    "c=0\n",
    "for i in prime(1000):\n",
    "    print(i)\n",
    "    c+=1\n",
    "    if(c==20):\n",
    "        break"
   ]
  }
 ],
 "metadata": {
  "kernelspec": {
   "display_name": "Python 3 (ipykernel)",
   "language": "python",
   "name": "python3"
  },
  "language_info": {
   "codemirror_mode": {
    "name": "ipython",
    "version": 3
   },
   "file_extension": ".py",
   "mimetype": "text/x-python",
   "name": "python",
   "nbconvert_exporter": "python",
   "pygments_lexer": "ipython3",
   "version": "3.9.13"
  }
 },
 "nbformat": 4,
 "nbformat_minor": 5
}

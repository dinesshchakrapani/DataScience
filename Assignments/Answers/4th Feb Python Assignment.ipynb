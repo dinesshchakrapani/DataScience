{
 "cells": [
  {
   "cell_type": "markdown",
   "id": "74a559e6",
   "metadata": {},
   "source": [
    "<h1><center>4th Feb Python Assignment</center></h1>"
   ]
  },
  {
   "cell_type": "code",
   "execution_count": 17,
   "id": "e704bc12",
   "metadata": {},
   "outputs": [
    {
     "name": "stdout",
     "output_type": "stream",
     "text": [
      "[('Virat Kohli', 24936), ('Jack Kallis', 25534), ('Ricky Ponting', 27483), ('Sachin Tendulkar', 34357)]\n"
     ]
    }
   ],
   "source": [
    "'''\n",
    "1.'''\n",
    "          \n",
    "li=[('Sachin Tendulkar', 34357), ('Ricky Ponting', 27483), ('Jack Kallis', 25534), ('Virat Kohli', 24936)]\n",
    "print(sorted(li,key=lambda x:x[1]))"
   ]
  },
  {
   "cell_type": "code",
   "execution_count": 19,
   "id": "b0fc5c5e",
   "metadata": {},
   "outputs": [
    {
     "data": {
      "text/plain": [
       "[1, 4, 9, 16, 25, 36, 49, 64, 81, 100]"
      ]
     },
     "execution_count": 19,
     "metadata": {},
     "output_type": "execute_result"
    }
   ],
   "source": [
    "'''\n",
    "2.'''\n",
    "li=[1, 2, 3, 4, 5, 6, 7, 8, 9, 10]\n",
    "list(map(lambda i:i**2, li))"
   ]
  },
  {
   "cell_type": "code",
   "execution_count": 20,
   "id": "e42a717a",
   "metadata": {},
   "outputs": [
    {
     "data": {
      "text/plain": [
       "('1', '2', '3', '4', '5', '6', '7', '8', '9', '10')"
      ]
     },
     "execution_count": 20,
     "metadata": {},
     "output_type": "execute_result"
    }
   ],
   "source": [
    "'''\n",
    "3.'''\n",
    "li=[1, 2, 3, 4, 5, 6, 7, 8, 9, 10]\n",
    "tuple(map(lambda i:str(i),li))"
   ]
  },
  {
   "cell_type": "code",
   "execution_count": 22,
   "id": "4619bdd6",
   "metadata": {},
   "outputs": [
    {
     "data": {
      "text/plain": [
       "15511210043330985984000000"
      ]
     },
     "execution_count": 22,
     "metadata": {},
     "output_type": "execute_result"
    }
   ],
   "source": [
    "'''\n",
    "4.'''\n",
    "from functools import reduce\n",
    "reduce(lambda a,b:a*b,[i for i in range(1,26)])"
   ]
  },
  {
   "cell_type": "code",
   "execution_count": 24,
   "id": "7c958272",
   "metadata": {},
   "outputs": [
    {
     "data": {
      "text/plain": [
       "[6, 60, 90, 120]"
      ]
     },
     "execution_count": 24,
     "metadata": {},
     "output_type": "execute_result"
    }
   ],
   "source": [
    "'''\n",
    "5.'''\n",
    "li=[2, 3, 6, 9, 27, 60, 90, 120, 55, 46]\n",
    "list(filter(lambda i:i%2==0 and i%3==0,li))"
   ]
  },
  {
   "cell_type": "code",
   "execution_count": 25,
   "id": "0ff2b630",
   "metadata": {},
   "outputs": [
    {
     "data": {
      "text/plain": [
       "['php', 'aba', 'radar', 'level']"
      ]
     },
     "execution_count": 25,
     "metadata": {},
     "output_type": "execute_result"
    }
   ],
   "source": [
    "'''\n",
    "6.'''\n",
    "li=['python', 'php', 'aba', 'radar', 'level']\n",
    "list(filter(lambda i:i==i[::-1],li))"
   ]
  }
 ],
 "metadata": {
  "kernelspec": {
   "display_name": "Python 3 (ipykernel)",
   "language": "python",
   "name": "python3"
  },
  "language_info": {
   "codemirror_mode": {
    "name": "ipython",
    "version": 3
   },
   "file_extension": ".py",
   "mimetype": "text/x-python",
   "name": "python",
   "nbconvert_exporter": "python",
   "pygments_lexer": "ipython3",
   "version": "3.9.13"
  }
 },
 "nbformat": 4,
 "nbformat_minor": 5
}

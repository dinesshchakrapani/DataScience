{
 "cells": [
  {
   "cell_type": "markdown",
   "id": "33644ac6",
   "metadata": {},
   "source": [
    "<h1><center>5th Feb Python Assignment</center></h1>"
   ]
  },
  {
   "cell_type": "markdown",
   "id": "8d70b73a",
   "metadata": {},
   "source": [
    "<p><b>1.</b> Class is a blueprint of an object or a real world entity which can repesent many objects. While object is a instance of the class as it has it own behaviour and features.<br>Eg: Student is a Class as it represent a whole group of people who are studing in that institution but Dinessh is a object as he has his own features and behaviours and he will be different from other students in that institution.<p>"
   ]
  },
  {
   "cell_type": "markdown",
   "id": "f3a4ea86",
   "metadata": {},
   "source": [
    "<p><b>2.</b> Four pillars of OOPS are:\n",
    "<ul>\n",
    "  <li>Inheritance</li>\n",
    "  <li>Polymorphism</li>\n",
    "  <li>Polymorphism</li>\n",
    "  <li>Abstraction</li>\n",
    "</ul><p>"
   ]
  },
  {
   "cell_type": "markdown",
   "id": "a18ab777",
   "metadata": {},
   "source": [
    "<p><b>3.</b> __init__() function is used as a constructor and is used to initialize values to the object during object creation. <br>Eg: If a student has a phone number and mail id which has to be given while creation of an object we should use a __init__() constructor.<p>"
   ]
  },
  {
   "cell_type": "code",
   "execution_count": 1,
   "id": "dd709113",
   "metadata": {},
   "outputs": [
    {
     "name": "stdout",
     "output_type": "stream",
     "text": [
      "Dinessh phone number is: 7394946699\n",
      "Dinessh email id is dinessh@gmail.com\n"
     ]
    }
   ],
   "source": [
    "class student():\n",
    "    def __init__(a,name,phone,email):\n",
    "        a.name=name\n",
    "        a.phone=phone\n",
    "        a.email=email\n",
    "    def student_details(a):\n",
    "        print(f\"{a.name.capitalize()} phone number is: {a.phone}\\n{a.name.capitalize()} email id is {a.email}\")\n",
    "dinessh=student(\"dinessh\",7394946699,\"dinessh@gmail.com\")\n",
    "dinessh.student_details()\n",
    "        "
   ]
  },
  {
   "cell_type": "markdown",
   "id": "c3d481ab",
   "metadata": {},
   "source": [
    "<p><b>4.</b> self is used to  refer to the current instance of the class, and is used to access variables that belongs to the class<p>"
   ]
  },
  {
   "cell_type": "markdown",
   "id": "630648a5",
   "metadata": {},
   "source": [
    "<p><b>5.</b>Inheritance allows us to define a class that inherits all the methods and properties from another class. Parent \n",
    "class is the class being inherited from, also called base class. Child class is the class that inherits from another class, \n",
    "also called derived class.\n",
    "<ul>\n",
    "  <li>Single Inheritance</li>\n",
    "  <li>Multiple Inheritance</li>\n",
    "  <li>Multilevel Inheritance</li>\n",
    "  <li>Hierarchical Inheritance</li>\n",
    "  <li>Hybrid Inheritance</li>\n",
    "</ul>\n",
    "Eg:<br>\n",
    "<b>Single Inheritance</b> is like child getting their parents assets and child have their own assets too which cann't be used by parents. <br>\n",
    "<b>Multiple Inheritance</b> is like child getting their father and mother assets and child have their own assets too which cann't be used by their parents.<br>\n",
    "<b>Multilevel Inheritance</b> is like child getting their father assets and father gets grandfathers assets and father has his own assets and the child have their own assets too which cann't be used by their parents.<br>\n",
    "<b>Hierarchical Inheritance</b> is like children getting their parent assets and each child have their own assets too which cann't be used by parents and other children. <br>\n",
    "<b>Hybrid Inheritance</b> is combination of more than one inheritance. <br>\n",
    "<p>"
   ]
  }
 ],
 "metadata": {
  "kernelspec": {
   "display_name": "Python 3 (ipykernel)",
   "language": "python",
   "name": "python3"
  },
  "language_info": {
   "codemirror_mode": {
    "name": "ipython",
    "version": 3
   },
   "file_extension": ".py",
   "mimetype": "text/x-python",
   "name": "python",
   "nbconvert_exporter": "python",
   "pygments_lexer": "ipython3",
   "version": "3.9.13"
  }
 },
 "nbformat": 4,
 "nbformat_minor": 5
}

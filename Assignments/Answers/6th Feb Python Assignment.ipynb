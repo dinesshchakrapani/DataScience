{
 "cells": [
  {
   "cell_type": "code",
   "execution_count": 99,
   "id": "98887442",
   "metadata": {},
   "outputs": [
    {
     "name": "stdout",
     "output_type": "stream",
     "text": [
      "The product of all numbers after creating a flat list is: 4134711838987085478833841242112000\n"
     ]
    }
   ],
   "source": [
    "'''\n",
    "Q1. Create a function which will take a list as an argument and return the product of all the numbers\n",
    "after creating a flat list.\n",
    "Use the below-given list as an argument for your function.\n",
    "list1 = [1,2,3,4, [44,55,66, True], False, (34,56,78,89,34), {1,2,3,3,2,1}, {1:34, \"key2\": [55, 67, 78, 89], 4: (45,\n",
    "22, 61, 34)}, [56, 'data science'], 'Machine Learning']\n",
    "Note: you must extract numeric keys and values of the dictionary also.\n",
    "\n",
    "Code:'''\n",
    "\n",
    "from functools import reduce\n",
    "def flat(li,res):\n",
    "    for i in li:\n",
    "        if type(i)==type([]):\n",
    "            flat(i,res)\n",
    "        elif type(i)==type(()):\n",
    "            flat(list(i),res)\n",
    "        elif type(i)==type({0,}):\n",
    "            flat(list(i),res)\n",
    "        elif type(i)==type({}):\n",
    "            for j in i:\n",
    "                if type(j)==type(()) or type(j)==type({}):\n",
    "                    flat(j,res)\n",
    "                else:\n",
    "                    if(type(j)== type(1)):\n",
    "                        res.append(j)\n",
    "                if type(i[j])==type([]) or type(i[j])==type(()) or type(i[j])==type({0,}) or type(j)==type({}) :\n",
    "                    flat(i[j],res)\n",
    "                else:\n",
    "                    if(type(i[j])==type(1)):\n",
    "                        res.append(i[j])\n",
    "        else:\n",
    "            #print(type(i))\n",
    "            if(type(i)==type(1)):\n",
    "                res.append(i)\n",
    "    return res\n",
    "\n",
    "list1 = [1,2,3,4, [44,55,66, True], False, (34,56,78,89,34), {1,2,3,3,2,1}, {1:34, \"key2\": [55, 67, 78, 89], 4: (45,\n",
    "22, 61, 34)}, [56, 'data science'], 'Machine Learning']\n",
    "res=flat(list1,[])\n",
    "#print(f\"The flat list is {res}\")\n",
    "result=reduce(lambda x,y:x*y,res)\n",
    "print(f\"The product of all numbers after creating a flat list is: {result}\")"
   ]
  },
  {
   "cell_type": "code",
   "execution_count": 98,
   "id": "6d55a93e",
   "metadata": {},
   "outputs": [
    {
     "name": "stdout",
     "output_type": "stream",
     "text": [
      "The encrypted message is : r$dzmg$gl$yvxlnv$z$wzgz$hxrvmgrhg.\n"
     ]
    }
   ],
   "source": [
    "'''\n",
    "Q2. Write a python program for encrypting a message sent to you by your friend. The logic of encryption\n",
    "should be such that, for a the output should be z. For b, the output should be y. For c, the output should\n",
    "be x respectively. Also, the whitespace should be replaced with a dollar sign. Keep the punctuation\n",
    "marks unchanged.\n",
    "Input Sentence: I want to become a Data Scientist.\n",
    "Encrypt the above input sentence using the program you just created.\n",
    "Note: Convert the given input sentence into lowercase before encrypting. The final output should be\n",
    "lowercase.\n",
    "\n",
    "Code:'''\n",
    "\n",
    "a=\"I want to become a Data Scientist.\"\n",
    "a=a.lower().replace(\" \",\"$\")\n",
    "res=\"\"\n",
    "for i in a:\n",
    "    if(i==\"$\"):\n",
    "        res+=i\n",
    "    elif(i in \".,?!:;\\'\\\"-_[]()*/{}\"):\n",
    "        res+=i\n",
    "    else:\n",
    "        res+=(chr((ord('z')-97)-(ord(i)-97)+97))\n",
    "print(f\"The encrypted message is : {res}\")"
   ]
  }
 ],
 "metadata": {
  "kernelspec": {
   "display_name": "Python 3 (ipykernel)",
   "language": "python",
   "name": "python3"
  },
  "language_info": {
   "codemirror_mode": {
    "name": "ipython",
    "version": 3
   },
   "file_extension": ".py",
   "mimetype": "text/x-python",
   "name": "python",
   "nbconvert_exporter": "python",
   "pygments_lexer": "ipython3",
   "version": "3.9.13"
  }
 },
 "nbformat": 4,
 "nbformat_minor": 5
}

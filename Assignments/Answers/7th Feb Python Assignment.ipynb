{
 "cells": [
  {
   "cell_type": "markdown",
   "id": "16017065",
   "metadata": {},
   "source": [
    "<h1><center>6th Feb Python Assignment</center></h1>"
   ]
  },
  {
   "cell_type": "code",
   "execution_count": 1,
   "id": "a9ec0452",
   "metadata": {},
   "outputs": [
    {
     "name": "stdout",
     "output_type": "stream",
     "text": [
      "Please enter your password: DinEh12!@#\n",
      "Valid Password\n"
     ]
    }
   ],
   "source": [
    "'''\n",
    "Q1. You are writing code for a company. The requirement of the company is that you create a python\n",
    "function that will check whether the password entered by the user is correct or not. The function should\n",
    "take the password as input and return the string “Valid Password” if the entered password follows the\n",
    "below-given password guidelines else it should return “Invalid Password”.\n",
    "Note: 1. The Password should contain at least two uppercase letters and at least two lowercase letters.\n",
    "2. The Password should contain at least a number and three special characters.\n",
    "3. The length of the password should be 10 characters long.\n",
    "\n",
    "Code:'''\n",
    "\n",
    "def password_check(password):\n",
    "    up=0\n",
    "    lo=0\n",
    "    sp=0\n",
    "    di=0\n",
    "    if len(password)==10:\n",
    "        for i in password:\n",
    "            if (i.isalpha()):\n",
    "                if(i.islower()):\n",
    "                    lo+=1\n",
    "                else:\n",
    "                    up+=1\n",
    "            elif (i.isdigit()):\n",
    "                di+=1\n",
    "            else:\n",
    "                sp+=1\n",
    "    else:\n",
    "        return \"Invalid Password\"\n",
    "    if (lo>=2 and up>=2 and sp>=3 and di>=1):\n",
    "        return \"Valid Password\"\n",
    "    else:\n",
    "        return \"Invalid Password\"\n",
    "        \n",
    "\n",
    "password = input(\"Please enter your password: \")\n",
    "print(password_check(password))"
   ]
  },
  {
   "cell_type": "markdown",
   "id": "aef0ca67",
   "metadata": {},
   "source": [
    "Q2. Solve the below-given questions using at least one of the following:\n",
    "1. Lambda function\n",
    "2. Filter function\n",
    "3. Map function\n",
    "4. List Comprehension\n",
    "\n",
    "1.Check if the string starts with a particular letter<br>\n",
    "2.Check if the string is numeric<br>\n",
    "3.Sort a list of tuples having fruit names and their quantity. [(\"mango\",99),(\"orange\",80), (\"grapes\", 1000)]<br>\n",
    "4.Find the squares of numbers from 1 to 10<br>\n",
    "5.Find the cube root of numbers from 1 to 10<br>\n",
    "6.Check if a given number is even<br>\n",
    "7.Filter odd numbers from the given list.[1,2,3,4,5,6,7,8,9,10]<br>\n",
    "8.Sort a list of integers into positive and negative integers lists.[1,2,3,4,5,6,-1,-2,-3,-4,-5,0]"
   ]
  },
  {
   "cell_type": "code",
   "execution_count": 18,
   "id": "883da900",
   "metadata": {},
   "outputs": [
    {
     "name": "stdout",
     "output_type": "stream",
     "text": [
      "Enter the string: Dinessh\n",
      "Enter the letter in which the string should start: d\n",
      "Correct the string Dinessh starts with d\n"
     ]
    }
   ],
   "source": [
    "'''\n",
    "1.Check if the string starts with a particular letter:'''\n",
    "string=input(\"Enter the string: \")\n",
    "st=input(\"Enter the letter in which the string should start: \")\n",
    "if(len(st)>1):\n",
    "    print(\"Enter a letter not a word\")\n",
    "else:\n",
    "    a=lambda string,st:f\"Correct the string {string} starts with {st}\" if (string.lower()).startswith(st.lower()) else f\"Incorrect the string {string} starts with {st}\"\n",
    "    print(a(string,st))\n",
    "    "
   ]
  },
  {
   "cell_type": "code",
   "execution_count": 44,
   "id": "288ab101",
   "metadata": {},
   "outputs": [
    {
     "name": "stdout",
     "output_type": "stream",
     "text": [
      "Enter the string: 739583\n",
      "The string 739583 is numeric\n"
     ]
    }
   ],
   "source": [
    "'''\n",
    "2.Check if the string is numeric'''\n",
    "\n",
    "string=input(\"Enter the string: \")\n",
    "a=lambda string:f\"The string {string} is numeric\" if all([i.isdigit()for i in string]) else f\"The string {string} not numeric\"\n",
    "print(a(string))\n",
    "    "
   ]
  },
  {
   "cell_type": "code",
   "execution_count": 36,
   "id": "bb3fb616",
   "metadata": {},
   "outputs": [
    {
     "name": "stdout",
     "output_type": "stream",
     "text": [
      "Sorted based on Fruit name\n",
      "[('grapes', 1000), ('mango', 99), ('orange', 80)]\n",
      "Sorted based on Quantity\n",
      "[('orange', 80), ('mango', 99), ('grapes', 1000)]\n"
     ]
    }
   ],
   "source": [
    "'''\n",
    "3.Sort a list of tuples having fruit names and their quantity.[(\"mango\",99),(\"orange\",80), (\"grapes\", 1000)]'''\n",
    "\n",
    "li=[(\"mango\",99),(\"orange\",80), (\"grapes\", 1000)]\n",
    "print(\"Sorted based on Fruit name\")\n",
    "li=sorted(li,key=lambda x:x)\n",
    "print(li)\n",
    "print(\"Sorted based on Quantity\")\n",
    "li=sorted(li,key=lambda x:x[1])\n",
    "print(li)"
   ]
  },
  {
   "cell_type": "code",
   "execution_count": 45,
   "id": "250b6315",
   "metadata": {},
   "outputs": [
    {
     "name": "stdout",
     "output_type": "stream",
     "text": [
      "[1, 4, 9, 16, 25, 36, 49, 64, 81, 100]\n"
     ]
    }
   ],
   "source": [
    "'''\n",
    "4.Find the squares of numbers from 1 to 10'''\n",
    "print(list(map(lambda x:x**2,[i for i in range(1,11)])))"
   ]
  },
  {
   "cell_type": "code",
   "execution_count": 30,
   "id": "42d502ca",
   "metadata": {},
   "outputs": [
    {
     "name": "stdout",
     "output_type": "stream",
     "text": [
      "[1.0, 1.2599210498948732, 1.4422495703074083, 1.5874010519681994, 1.7099759466766968, 1.8171205928321397, 1.912931182772389, 2.0, 2.080083823051904, 2.154434690031884]\n"
     ]
    }
   ],
   "source": [
    "'''\n",
    "5.Find the cube root of numbers from 1 to 10'''\n",
    "print(list(map(lambda x:x**(1/3),[i for i in range(1,11)])))"
   ]
  },
  {
   "cell_type": "code",
   "execution_count": 32,
   "id": "1a13194b",
   "metadata": {},
   "outputs": [
    {
     "name": "stdout",
     "output_type": "stream",
     "text": [
      "Enter the number: 4\n",
      "Given number is even\n"
     ]
    }
   ],
   "source": [
    "'''\n",
    "6.Check if a given number is even'''\n",
    "num=int(input(\"Enter the number: \"))\n",
    "a=lambda num: \"Given number is even\" if num%2==0 else \"Given number is not even\"\n",
    "print(a(num))"
   ]
  },
  {
   "cell_type": "code",
   "execution_count": 37,
   "id": "599cf7e4",
   "metadata": {},
   "outputs": [
    {
     "name": "stdout",
     "output_type": "stream",
     "text": [
      "[1, 3, 5, 7, 9]\n"
     ]
    }
   ],
   "source": [
    "'''\n",
    "7.Filter odd numbers from the given list.[1,2,3,4,5,6,7,8,9,10]'''\n",
    "li=[1,2,3,4,5,6,7,8,9,10]\n",
    "print(list(filter(lambda x:x%2!=0,li)))"
   ]
  },
  {
   "cell_type": "code",
   "execution_count": 41,
   "id": "f963577a",
   "metadata": {},
   "outputs": [
    {
     "name": "stdout",
     "output_type": "stream",
     "text": [
      "Sorted positive integer list [0, 1, 2, 3, 4, 5, 6]\n",
      "Sorted negative integer list [-5, -4, -3, -2, -1]\n"
     ]
    }
   ],
   "source": [
    "'''\n",
    "8.Sort a list of integers into positive and negative integers lists.[1,2,3,4,5,6,-1,-2,-3,-4,-5,0]'''\n",
    "po=[]\n",
    "ne=[]\n",
    "li=[1,2,3,4,5,6,-1,-2,-3,-4,-5,0]\n",
    "[po.append(i) if i>=0 else ne.append(i) for i in li]\n",
    "po=sorted(po)\n",
    "ne=sorted(ne)\n",
    "print(f\"Sorted positive integer list {po}\")\n",
    "print(f\"Sorted negative integer list {ne}\")"
   ]
  }
 ],
 "metadata": {
  "kernelspec": {
   "display_name": "Python 3 (ipykernel)",
   "language": "python",
   "name": "python3"
  },
  "language_info": {
   "codemirror_mode": {
    "name": "ipython",
    "version": 3
   },
   "file_extension": ".py",
   "mimetype": "text/x-python",
   "name": "python",
   "nbconvert_exporter": "python",
   "pygments_lexer": "ipython3",
   "version": "3.9.13"
  }
 },
 "nbformat": 4,
 "nbformat_minor": 5
}

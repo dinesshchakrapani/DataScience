{
 "cells": [
  {
   "cell_type": "markdown",
   "id": "043890dd",
   "metadata": {},
   "source": [
    "<h1><center>9th Feb Python Assignment</center></h1>"
   ]
  },
  {
   "cell_type": "code",
   "execution_count": 8,
   "id": "63cf2d21",
   "metadata": {},
   "outputs": [
    {
     "name": "stdout",
     "output_type": "stream",
     "text": [
      "bus\n"
     ]
    }
   ],
   "source": [
    "'''\n",
    "Q1. Create a vehicle class with an init method having instance variables as name_of_vehicle, max_speed\n",
    "and average_of_vehicle.'''\n",
    "\n",
    "class vehicle:\n",
    "    def __init__(self, name_of_vehicle, max_speed, average_of_vehicle):\n",
    "        self.name_of_vehicle=name_of_vehicle\n",
    "        self.max_speed=max_speed\n",
    "        self.average_of_vehicle=average_of_vehicle\n",
    "bus=vehicle(\"bus\",120,50)\n",
    "print(bus.name_of_vehicle)"
   ]
  },
  {
   "cell_type": "code",
   "execution_count": 29,
   "id": "b9c74235",
   "metadata": {},
   "outputs": [
    {
     "name": "stdout",
     "output_type": "stream",
     "text": [
      "The vehicle Audi has the capacity of 5 people.\n"
     ]
    }
   ],
   "source": [
    "'''\n",
    "Q2. Create a child class car from the vehicle class created in Que 1, which will inherit the vehicle class.\n",
    "Create a method named seating_capacity which takes capacity as an argument and returns the name of\n",
    "the vehicle and its seating capacity.'''\n",
    "\n",
    "class vehicle:\n",
    "    def __init__(self, name_of_vehicle, max_speed, average_of_vehicle):\n",
    "        self.name_of_vehicle=name_of_vehicle\n",
    "        self.max_speed=max_speed\n",
    "        self.average_of_vehicle=average_of_vehicle\n",
    "class car(vehicle):\n",
    "    def __init__(self, name_of_vehicle, max_speed, average_of_vehicle):\n",
    "        vehicle.__init__(self,name_of_vehicle, max_speed, average_of_vehicle)\n",
    "    def seating_capacity(self, capacity):\n",
    "        return self.name_of_vehicle,capacity\n",
    "Audi=car(\"Audi\",120,50)\n",
    "name_of_vehicle,capacity=Audi.seating_capacity(5)\n",
    "print(f\"The vehicle {name_of_vehicle} has the capacity of {capacity} people.\")"
   ]
  },
  {
   "cell_type": "code",
   "execution_count": 24,
   "id": "0f1ab737",
   "metadata": {},
   "outputs": [
    {
     "name": "stdout",
     "output_type": "stream",
     "text": [
      "class A\n",
      "class B\n",
      "class C\n"
     ]
    }
   ],
   "source": [
    "'''\n",
    "Q3. What is multiple inheritance? Write a python code to demonstrate multiple inheritance.\n",
    "\n",
    "Ans: Multiple Inheritance will inherit the behaviours and properties from 2 parents.'''\n",
    "\n",
    "class A:\n",
    "    def sampleA(self):\n",
    "        print(\"class A\")\n",
    "class B:\n",
    "    def sampleB(self):\n",
    "        print(\"class B\")\n",
    "class C(A,B):\n",
    "    def sampleC(self):\n",
    "        print(\"class C\")\n",
    "\n",
    "c=C()\n",
    "c.sampleA()\n",
    "c.sampleB()\n",
    "c.sampleC()"
   ]
  },
  {
   "cell_type": "code",
   "execution_count": 33,
   "id": "9d189aa6",
   "metadata": {},
   "outputs": [
    {
     "name": "stdout",
     "output_type": "stream",
     "text": [
      "bus\n",
      "car\n"
     ]
    }
   ],
   "source": [
    "'''\n",
    "Q4. What are getter and setter in python? Create a class and create a getter and a setter method in this\n",
    "class.\n",
    "\n",
    "Ans: Getter and setter are methods used to get and set the values to the varibles from outside to the object as these variables \n",
    "should not be modified by anyone unknowingly and this is used for the concept of encapsulation'''\n",
    "\n",
    "class vehicle:\n",
    "    def __init__(self, name_of_vehicle, max_speed, average_of_vehicle):\n",
    "        self.__name_of_vehicle=name_of_vehicle\n",
    "        self.__max_speed=max_speed\n",
    "        self.__average_of_vehicle=average_of_vehicle\n",
    "    def get_name_of_vehicle(self):\n",
    "        return self.__name_of_vehicle\n",
    "    def set_name_of_vehicle(self,name_of_vehicle):\n",
    "        self.__name_of_vehicle=name_of_vehicle\n",
    "bus=vehicle(\"bus\",120,50)\n",
    "print(bus.get_name_of_vehicle())\n",
    "bus.set_name_of_vehicle(\"car\")\n",
    "print(bus.get_name_of_vehicle())"
   ]
  },
  {
   "cell_type": "code",
   "execution_count": 27,
   "id": "7224a04d",
   "metadata": {},
   "outputs": [
    {
     "name": "stdout",
     "output_type": "stream",
     "text": [
      "class B\n"
     ]
    }
   ],
   "source": [
    "'''\n",
    "Q5.What is method overriding in python? Write a python code to demonstrate method overriding.\n",
    "\n",
    "Ans: Method overriding is used to override any method of parent class which dont want to be used by the child class. In this \n",
    "method name is created with same name in both parent and child class.\n",
    "So when the object is created for the child class but both the parent and child class have a method with same name when we call\n",
    "the method using that object created we will get child class method'''\n",
    "\n",
    "class A:\n",
    "    def sample(self):\n",
    "        print(\"class A\")\n",
    "class B(A):\n",
    "    def sample(self):\n",
    "        print(\"class B\")\n",
    "b=B()\n",
    "b.sample()"
   ]
  }
 ],
 "metadata": {
  "kernelspec": {
   "display_name": "Python 3 (ipykernel)",
   "language": "python",
   "name": "python3"
  },
  "language_info": {
   "codemirror_mode": {
    "name": "ipython",
    "version": 3
   },
   "file_extension": ".py",
   "mimetype": "text/x-python",
   "name": "python",
   "nbconvert_exporter": "python",
   "pygments_lexer": "ipython3",
   "version": "3.9.13"
  }
 },
 "nbformat": 4,
 "nbformat_minor": 5
}
